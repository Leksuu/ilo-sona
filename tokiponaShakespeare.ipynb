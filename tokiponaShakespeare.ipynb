{
  "cells": [
    {
      "cell_type": "markdown",
      "metadata": {
        "id": "view-in-github",
        "colab_type": "text"
      },
      "source": [
        "<a href=\"https://colab.research.google.com/github/Leksuu/ilo-sona/blob/colab-shakespeare-tricks/tokiponaShakespeare.ipynb\" target=\"_parent\"><img src=\"https://colab.research.google.com/assets/colab-badge.svg\" alt=\"Open In Colab\"/></a>"
      ]
    },
    {
      "cell_type": "code",
      "execution_count": null,
      "metadata": {
        "colab": {
          "base_uri": "https://localhost:8080/"
        },
        "id": "bvUfc22PQktr",
        "outputId": "cf90abc9-8b6e-4e7f-f651-77134d29dedc"
      },
      "outputs": [
        {
          "name": "stdout",
          "output_type": "stream",
          "text": [
            "Cloning into 'ilo-sona'...\n",
            "remote: Enumerating objects: 2054, done.\u001b[K\n",
            "remote: Counting objects: 100% (2054/2054), done.\u001b[K\n",
            "remote: Compressing objects: 100% (1956/1956), done.\u001b[K\n",
            "remote: Total 2054 (delta 81), reused 2026 (delta 57), pack-reused 0\u001b[K\n",
            "Receiving objects: 100% (2054/2054), 2.85 MiB | 4.35 MiB/s, done.\n",
            "Resolving deltas: 100% (81/81), done.\n"
          ]
        }
      ],
      "source": [
        "!git clone https://github.com/jqhoogland/ilo-sona.git\n"
      ]
    },
    {
      "cell_type": "code",
      "execution_count": null,
      "metadata": {
        "colab": {
          "base_uri": "https://localhost:8080/"
        },
        "id": "eyX8M0wmRShN",
        "outputId": "9878a1c9-f0d4-4489-c3e9-2f24e4c51c34"
      },
      "outputs": [
        {
          "name": "stdout",
          "output_type": "stream",
          "text": [
            "/content/ilo-sona\n"
          ]
        }
      ],
      "source": [
        "%cd ilo-sona"
      ]
    },
    {
      "cell_type": "code",
      "execution_count": null,
      "metadata": {
        "colab": {
          "base_uri": "https://localhost:8080/"
        },
        "id": "VGCrnTKxRXEu",
        "outputId": "afd67d14-5b30-450a-cdaa-3b17ed4070ba"
      },
      "outputs": [
        {
          "name": "stdout",
          "output_type": "stream",
          "text": [
            "Collecting langchain (from -r requirements.txt (line 1))\n",
            "  Downloading langchain-0.0.217-py3-none-any.whl (1.1 MB)\n",
            "\u001b[?25l     \u001b[90m━━━━━━━━━━━━━━━━━━━━━━━━━━━━━━━━━━━━━━━━\u001b[0m \u001b[32m0.0/1.1 MB\u001b[0m \u001b[31m?\u001b[0m eta \u001b[36m-:--:--\u001b[0m\r\u001b[2K     \u001b[91m━━━━━━━━━\u001b[0m\u001b[91m╸\u001b[0m\u001b[90m━━━━━━━━━━━━━━━━━━━━━━━━━━━━━━\u001b[0m \u001b[32m0.3/1.1 MB\u001b[0m \u001b[31m8.0 MB/s\u001b[0m eta \u001b[36m0:00:01\u001b[0m\r\u001b[2K     \u001b[91m━━━━━━━━━━━━━━━━━━━━━━━━━━━━━━━━━━━━━━━\u001b[0m\u001b[91m╸\u001b[0m \u001b[32m1.1/1.1 MB\u001b[0m \u001b[31m19.5 MB/s\u001b[0m eta \u001b[36m0:00:01\u001b[0m\r\u001b[2K     \u001b[90m━━━━━━━━━━━━━━━━━━━━━━━━━━━━━━━━━━━━━━━━\u001b[0m \u001b[32m1.1/1.1 MB\u001b[0m \u001b[31m15.4 MB/s\u001b[0m eta \u001b[36m0:00:00\u001b[0m\n",
            "\u001b[?25hCollecting langchainplus-sdk (from -r requirements.txt (line 2))\n",
            "  Downloading langchainplus_sdk-0.0.17-py3-none-any.whl (25 kB)\n",
            "Requirement already satisfied: langcodes in /usr/local/lib/python3.10/dist-packages (from -r requirements.txt (line 3)) (3.3.0)\n",
            "Requirement already satisfied: matplotlib in /usr/local/lib/python3.10/dist-packages (from -r requirements.txt (line 4)) (3.7.1)\n",
            "Requirement already satisfied: pandas in /usr/local/lib/python3.10/dist-packages (from -r requirements.txt (line 5)) (1.5.3)\n",
            "Requirement already satisfied: scikit-learn in /usr/local/lib/python3.10/dist-packages (from -r requirements.txt (line 6)) (1.2.2)\n",
            "Requirement already satisfied: scipy in /usr/local/lib/python3.10/dist-packages (from -r requirements.txt (line 7)) (1.10.1)\n",
            "Requirement already satisfied: seaborn in /usr/local/lib/python3.10/dist-packages (from -r requirements.txt (line 8)) (0.12.2)\n",
            "Requirement already satisfied: spacy in /usr/local/lib/python3.10/dist-packages (from -r requirements.txt (line 9)) (3.5.3)\n",
            "Collecting tokenizers (from -r requirements.txt (line 10))\n",
            "  Downloading tokenizers-0.13.3-cp310-cp310-manylinux_2_17_x86_64.manylinux2014_x86_64.whl (7.8 MB)\n",
            "\u001b[2K     \u001b[90m━━━━━━━━━━━━━━━━━━━━━━━━━━━━━━━━━━━━━━━━\u001b[0m \u001b[32m7.8/7.8 MB\u001b[0m \u001b[31m68.2 MB/s\u001b[0m eta \u001b[36m0:00:00\u001b[0m\n",
            "\u001b[?25hRequirement already satisfied: torch in /usr/local/lib/python3.10/dist-packages (from -r requirements.txt (line 11)) (2.0.1+cu118)\n",
            "Requirement already satisfied: torchdata in /usr/local/lib/python3.10/dist-packages (from -r requirements.txt (line 12)) (0.6.1)\n",
            "Requirement already satisfied: torchtext in /usr/local/lib/python3.10/dist-packages (from -r requirements.txt (line 13)) (0.15.2)\n",
            "Collecting torchtyping (from -r requirements.txt (line 14))\n",
            "  Downloading torchtyping-0.1.4-py3-none-any.whl (17 kB)\n",
            "Requirement already satisfied: torchvision in /usr/local/lib/python3.10/dist-packages (from -r requirements.txt (line 15)) (0.15.2+cu118)\n",
            "Requirement already satisfied: tqdm in /usr/local/lib/python3.10/dist-packages (from -r requirements.txt (line 16)) (4.65.0)\n",
            "Collecting transformers (from -r requirements.txt (line 17))\n",
            "  Downloading transformers-4.30.2-py3-none-any.whl (7.2 MB)\n",
            "\u001b[2K     \u001b[90m━━━━━━━━━━━━━━━━━━━━━━━━━━━━━━━━━━━━━━━━\u001b[0m \u001b[32m7.2/7.2 MB\u001b[0m \u001b[31m89.8 MB/s\u001b[0m eta \u001b[36m0:00:00\u001b[0m\n",
            "\u001b[?25hCollecting wandb (from -r requirements.txt (line 18))\n",
            "  Downloading wandb-0.15.4-py3-none-any.whl (2.1 MB)\n",
            "\u001b[2K     \u001b[90m━━━━━━━━━━━━━━━━━━━━━━━━━━━━━━━━━━━━━━━━\u001b[0m \u001b[32m2.1/2.1 MB\u001b[0m \u001b[31m79.7 MB/s\u001b[0m eta \u001b[36m0:00:00\u001b[0m\n",
            "\u001b[?25hRequirement already satisfied: numpy in /usr/local/lib/python3.10/dist-packages (from -r requirements.txt (line 19)) (1.22.4)\n",
            "Requirement already satisfied: PyYAML>=5.4.1 in /usr/local/lib/python3.10/dist-packages (from langchain->-r requirements.txt (line 1)) (6.0)\n",
            "Requirement already satisfied: SQLAlchemy<3,>=1.4 in /usr/local/lib/python3.10/dist-packages (from langchain->-r requirements.txt (line 1)) (2.0.16)\n",
            "Requirement already satisfied: aiohttp<4.0.0,>=3.8.3 in /usr/local/lib/python3.10/dist-packages (from langchain->-r requirements.txt (line 1)) (3.8.4)\n",
            "Requirement already satisfied: async-timeout<5.0.0,>=4.0.0 in /usr/local/lib/python3.10/dist-packages (from langchain->-r requirements.txt (line 1)) (4.0.2)\n",
            "Collecting dataclasses-json<0.6.0,>=0.5.7 (from langchain->-r requirements.txt (line 1))\n",
            "  Downloading dataclasses_json-0.5.8-py3-none-any.whl (26 kB)\n",
            "Requirement already satisfied: numexpr<3.0.0,>=2.8.4 in /usr/local/lib/python3.10/dist-packages (from langchain->-r requirements.txt (line 1)) (2.8.4)\n",
            "Collecting openapi-schema-pydantic<2.0,>=1.2 (from langchain->-r requirements.txt (line 1))\n",
            "  Downloading openapi_schema_pydantic-1.2.4-py3-none-any.whl (90 kB)\n",
            "\u001b[2K     \u001b[90m━━━━━━━━━━━━━━━━━━━━━━━━━━━━━━━━━━━━━━━━\u001b[0m \u001b[32m90.0/90.0 kB\u001b[0m \u001b[31m9.6 MB/s\u001b[0m eta \u001b[36m0:00:00\u001b[0m\n",
            "\u001b[?25hRequirement already satisfied: pydantic<2,>=1 in /usr/local/lib/python3.10/dist-packages (from langchain->-r requirements.txt (line 1)) (1.10.9)\n",
            "Requirement already satisfied: requests<3,>=2 in /usr/local/lib/python3.10/dist-packages (from langchain->-r requirements.txt (line 1)) (2.27.1)\n",
            "Requirement already satisfied: tenacity<9.0.0,>=8.1.0 in /usr/local/lib/python3.10/dist-packages (from langchain->-r requirements.txt (line 1)) (8.2.2)\n",
            "Requirement already satisfied: contourpy>=1.0.1 in /usr/local/lib/python3.10/dist-packages (from matplotlib->-r requirements.txt (line 4)) (1.1.0)\n",
            "Requirement already satisfied: cycler>=0.10 in /usr/local/lib/python3.10/dist-packages (from matplotlib->-r requirements.txt (line 4)) (0.11.0)\n",
            "Requirement already satisfied: fonttools>=4.22.0 in /usr/local/lib/python3.10/dist-packages (from matplotlib->-r requirements.txt (line 4)) (4.40.0)\n",
            "Requirement already satisfied: kiwisolver>=1.0.1 in /usr/local/lib/python3.10/dist-packages (from matplotlib->-r requirements.txt (line 4)) (1.4.4)\n",
            "Requirement already satisfied: packaging>=20.0 in /usr/local/lib/python3.10/dist-packages (from matplotlib->-r requirements.txt (line 4)) (23.1)\n",
            "Requirement already satisfied: pillow>=6.2.0 in /usr/local/lib/python3.10/dist-packages (from matplotlib->-r requirements.txt (line 4)) (8.4.0)\n",
            "Requirement already satisfied: pyparsing>=2.3.1 in /usr/local/lib/python3.10/dist-packages (from matplotlib->-r requirements.txt (line 4)) (3.1.0)\n",
            "Requirement already satisfied: python-dateutil>=2.7 in /usr/local/lib/python3.10/dist-packages (from matplotlib->-r requirements.txt (line 4)) (2.8.2)\n",
            "Requirement already satisfied: pytz>=2020.1 in /usr/local/lib/python3.10/dist-packages (from pandas->-r requirements.txt (line 5)) (2022.7.1)\n",
            "Requirement already satisfied: joblib>=1.1.1 in /usr/local/lib/python3.10/dist-packages (from scikit-learn->-r requirements.txt (line 6)) (1.2.0)\n",
            "Requirement already satisfied: threadpoolctl>=2.0.0 in /usr/local/lib/python3.10/dist-packages (from scikit-learn->-r requirements.txt (line 6)) (3.1.0)\n",
            "Requirement already satisfied: spacy-legacy<3.1.0,>=3.0.11 in /usr/local/lib/python3.10/dist-packages (from spacy->-r requirements.txt (line 9)) (3.0.12)\n",
            "Requirement already satisfied: spacy-loggers<2.0.0,>=1.0.0 in /usr/local/lib/python3.10/dist-packages (from spacy->-r requirements.txt (line 9)) (1.0.4)\n",
            "Requirement already satisfied: murmurhash<1.1.0,>=0.28.0 in /usr/local/lib/python3.10/dist-packages (from spacy->-r requirements.txt (line 9)) (1.0.9)\n",
            "Requirement already satisfied: cymem<2.1.0,>=2.0.2 in /usr/local/lib/python3.10/dist-packages (from spacy->-r requirements.txt (line 9)) (2.0.7)\n",
            "Requirement already satisfied: preshed<3.1.0,>=3.0.2 in /usr/local/lib/python3.10/dist-packages (from spacy->-r requirements.txt (line 9)) (3.0.8)\n",
            "Requirement already satisfied: thinc<8.2.0,>=8.1.8 in /usr/local/lib/python3.10/dist-packages (from spacy->-r requirements.txt (line 9)) (8.1.10)\n",
            "Requirement already satisfied: wasabi<1.2.0,>=0.9.1 in /usr/local/lib/python3.10/dist-packages (from spacy->-r requirements.txt (line 9)) (1.1.2)\n",
            "Requirement already satisfied: srsly<3.0.0,>=2.4.3 in /usr/local/lib/python3.10/dist-packages (from spacy->-r requirements.txt (line 9)) (2.4.6)\n",
            "Requirement already satisfied: catalogue<2.1.0,>=2.0.6 in /usr/local/lib/python3.10/dist-packages (from spacy->-r requirements.txt (line 9)) (2.0.8)\n",
            "Requirement already satisfied: typer<0.8.0,>=0.3.0 in /usr/local/lib/python3.10/dist-packages (from spacy->-r requirements.txt (line 9)) (0.7.0)\n",
            "Requirement already satisfied: pathy>=0.10.0 in /usr/local/lib/python3.10/dist-packages (from spacy->-r requirements.txt (line 9)) (0.10.2)\n",
            "Requirement already satisfied: smart-open<7.0.0,>=5.2.1 in /usr/local/lib/python3.10/dist-packages (from spacy->-r requirements.txt (line 9)) (6.3.0)\n",
            "Requirement already satisfied: jinja2 in /usr/local/lib/python3.10/dist-packages (from spacy->-r requirements.txt (line 9)) (3.1.2)\n",
            "Requirement already satisfied: setuptools in /usr/local/lib/python3.10/dist-packages (from spacy->-r requirements.txt (line 9)) (67.7.2)\n",
            "Requirement already satisfied: filelock in /usr/local/lib/python3.10/dist-packages (from torch->-r requirements.txt (line 11)) (3.12.2)\n",
            "Requirement already satisfied: typing-extensions in /usr/local/lib/python3.10/dist-packages (from torch->-r requirements.txt (line 11)) (4.6.3)\n",
            "Requirement already satisfied: sympy in /usr/local/lib/python3.10/dist-packages (from torch->-r requirements.txt (line 11)) (1.11.1)\n",
            "Requirement already satisfied: networkx in /usr/local/lib/python3.10/dist-packages (from torch->-r requirements.txt (line 11)) (3.1)\n",
            "Requirement already satisfied: triton==2.0.0 in /usr/local/lib/python3.10/dist-packages (from torch->-r requirements.txt (line 11)) (2.0.0)\n",
            "Requirement already satisfied: cmake in /usr/local/lib/python3.10/dist-packages (from triton==2.0.0->torch->-r requirements.txt (line 11)) (3.25.2)\n",
            "Requirement already satisfied: lit in /usr/local/lib/python3.10/dist-packages (from triton==2.0.0->torch->-r requirements.txt (line 11)) (16.0.6)\n",
            "Requirement already satisfied: urllib3>=1.25 in /usr/local/lib/python3.10/dist-packages (from torchdata->-r requirements.txt (line 12)) (1.26.16)\n",
            "Collecting typeguard>=2.11.1 (from torchtyping->-r requirements.txt (line 14))\n",
            "  Downloading typeguard-4.0.0-py3-none-any.whl (33 kB)\n",
            "Collecting huggingface-hub<1.0,>=0.14.1 (from transformers->-r requirements.txt (line 17))\n",
            "  Downloading huggingface_hub-0.15.1-py3-none-any.whl (236 kB)\n",
            "\u001b[2K     \u001b[90m━━━━━━━━━━━━━━━━━━━━━━━━━━━━━━━━━━━━━━\u001b[0m \u001b[32m236.8/236.8 kB\u001b[0m \u001b[31m21.3 MB/s\u001b[0m eta \u001b[36m0:00:00\u001b[0m\n",
            "\u001b[?25hRequirement already satisfied: regex!=2019.12.17 in /usr/local/lib/python3.10/dist-packages (from transformers->-r requirements.txt (line 17)) (2022.10.31)\n",
            "Collecting safetensors>=0.3.1 (from transformers->-r requirements.txt (line 17))\n",
            "  Downloading safetensors-0.3.1-cp310-cp310-manylinux_2_17_x86_64.manylinux2014_x86_64.whl (1.3 MB)\n",
            "\u001b[2K     \u001b[90m━━━━━━━━━━━━━━━━━━━━━━━━━━━━━━━━━━━━━━━━\u001b[0m \u001b[32m1.3/1.3 MB\u001b[0m \u001b[31m57.8 MB/s\u001b[0m eta \u001b[36m0:00:00\u001b[0m\n",
            "\u001b[?25hRequirement already satisfied: Click!=8.0.0,>=7.0 in /usr/local/lib/python3.10/dist-packages (from wandb->-r requirements.txt (line 18)) (8.1.3)\n",
            "Collecting GitPython!=3.1.29,>=1.0.0 (from wandb->-r requirements.txt (line 18))\n",
            "  Downloading GitPython-3.1.31-py3-none-any.whl (184 kB)\n",
            "\u001b[2K     \u001b[90m━━━━━━━━━━━━━━━━━━━━━━━━━━━━━━━━━━━━━━\u001b[0m \u001b[32m184.3/184.3 kB\u001b[0m \u001b[31m16.8 MB/s\u001b[0m eta \u001b[36m0:00:00\u001b[0m\n",
            "\u001b[?25hRequirement already satisfied: psutil>=5.0.0 in /usr/local/lib/python3.10/dist-packages (from wandb->-r requirements.txt (line 18)) (5.9.5)\n",
            "Collecting sentry-sdk>=1.0.0 (from wandb->-r requirements.txt (line 18))\n",
            "  Downloading sentry_sdk-1.26.0-py2.py3-none-any.whl (209 kB)\n",
            "\u001b[2K     \u001b[90m━━━━━━━━━━━━━━━━━━━━━━━━━━━━━━━━━━━━━━\u001b[0m \u001b[32m209.4/209.4 kB\u001b[0m \u001b[31m18.3 MB/s\u001b[0m eta \u001b[36m0:00:00\u001b[0m\n",
            "\u001b[?25hCollecting docker-pycreds>=0.4.0 (from wandb->-r requirements.txt (line 18))\n",
            "  Downloading docker_pycreds-0.4.0-py2.py3-none-any.whl (9.0 kB)\n",
            "Collecting pathtools (from wandb->-r requirements.txt (line 18))\n",
            "  Downloading pathtools-0.1.2.tar.gz (11 kB)\n",
            "  Preparing metadata (setup.py) ... \u001b[?25l\u001b[?25hdone\n",
            "Collecting setproctitle (from wandb->-r requirements.txt (line 18))\n",
            "  Downloading setproctitle-1.3.2-cp310-cp310-manylinux_2_5_x86_64.manylinux1_x86_64.manylinux_2_17_x86_64.manylinux2014_x86_64.whl (30 kB)\n",
            "Requirement already satisfied: appdirs>=1.4.3 in /usr/local/lib/python3.10/dist-packages (from wandb->-r requirements.txt (line 18)) (1.4.4)\n",
            "Requirement already satisfied: protobuf!=4.21.0,<5,>=3.19.0 in /usr/local/lib/python3.10/dist-packages (from wandb->-r requirements.txt (line 18)) (3.20.3)\n",
            "Requirement already satisfied: attrs>=17.3.0 in /usr/local/lib/python3.10/dist-packages (from aiohttp<4.0.0,>=3.8.3->langchain->-r requirements.txt (line 1)) (23.1.0)\n",
            "Requirement already satisfied: charset-normalizer<4.0,>=2.0 in /usr/local/lib/python3.10/dist-packages (from aiohttp<4.0.0,>=3.8.3->langchain->-r requirements.txt (line 1)) (2.0.12)\n",
            "Requirement already satisfied: multidict<7.0,>=4.5 in /usr/local/lib/python3.10/dist-packages (from aiohttp<4.0.0,>=3.8.3->langchain->-r requirements.txt (line 1)) (6.0.4)\n",
            "Requirement already satisfied: yarl<2.0,>=1.0 in /usr/local/lib/python3.10/dist-packages (from aiohttp<4.0.0,>=3.8.3->langchain->-r requirements.txt (line 1)) (1.9.2)\n",
            "Requirement already satisfied: frozenlist>=1.1.1 in /usr/local/lib/python3.10/dist-packages (from aiohttp<4.0.0,>=3.8.3->langchain->-r requirements.txt (line 1)) (1.3.3)\n",
            "Requirement already satisfied: aiosignal>=1.1.2 in /usr/local/lib/python3.10/dist-packages (from aiohttp<4.0.0,>=3.8.3->langchain->-r requirements.txt (line 1)) (1.3.1)\n",
            "Collecting marshmallow<4.0.0,>=3.3.0 (from dataclasses-json<0.6.0,>=0.5.7->langchain->-r requirements.txt (line 1))\n",
            "  Downloading marshmallow-3.19.0-py3-none-any.whl (49 kB)\n",
            "\u001b[2K     \u001b[90m━━━━━━━━━━━━━━━━━━━━━━━━━━━━━━━━━━━━━━━━\u001b[0m \u001b[32m49.1/49.1 kB\u001b[0m \u001b[31m2.9 MB/s\u001b[0m eta \u001b[36m0:00:00\u001b[0m\n",
            "\u001b[?25hCollecting marshmallow-enum<2.0.0,>=1.5.1 (from dataclasses-json<0.6.0,>=0.5.7->langchain->-r requirements.txt (line 1))\n",
            "  Downloading marshmallow_enum-1.5.1-py2.py3-none-any.whl (4.2 kB)\n",
            "Collecting typing-inspect>=0.4.0 (from dataclasses-json<0.6.0,>=0.5.7->langchain->-r requirements.txt (line 1))\n",
            "  Downloading typing_inspect-0.9.0-py3-none-any.whl (8.8 kB)\n",
            "Requirement already satisfied: six>=1.4.0 in /usr/local/lib/python3.10/dist-packages (from docker-pycreds>=0.4.0->wandb->-r requirements.txt (line 18)) (1.16.0)\n",
            "Collecting gitdb<5,>=4.0.1 (from GitPython!=3.1.29,>=1.0.0->wandb->-r requirements.txt (line 18))\n",
            "  Downloading gitdb-4.0.10-py3-none-any.whl (62 kB)\n",
            "\u001b[2K     \u001b[90m━━━━━━━━━━━━━━━━━━━━━━━━━━━━━━━━━━━━━━━━\u001b[0m \u001b[32m62.7/62.7 kB\u001b[0m \u001b[31m7.0 MB/s\u001b[0m eta \u001b[36m0:00:00\u001b[0m\n",
            "\u001b[?25hRequirement already satisfied: fsspec in /usr/local/lib/python3.10/dist-packages (from huggingface-hub<1.0,>=0.14.1->transformers->-r requirements.txt (line 17)) (2023.6.0)\n",
            "Requirement already satisfied: certifi>=2017.4.17 in /usr/local/lib/python3.10/dist-packages (from requests<3,>=2->langchain->-r requirements.txt (line 1)) (2023.5.7)\n",
            "Requirement already satisfied: idna<4,>=2.5 in /usr/local/lib/python3.10/dist-packages (from requests<3,>=2->langchain->-r requirements.txt (line 1)) (3.4)\n",
            "Requirement already satisfied: greenlet!=0.4.17 in /usr/local/lib/python3.10/dist-packages (from SQLAlchemy<3,>=1.4->langchain->-r requirements.txt (line 1)) (2.0.2)\n",
            "Requirement already satisfied: blis<0.8.0,>=0.7.8 in /usr/local/lib/python3.10/dist-packages (from thinc<8.2.0,>=8.1.8->spacy->-r requirements.txt (line 9)) (0.7.9)\n",
            "Requirement already satisfied: confection<1.0.0,>=0.0.1 in /usr/local/lib/python3.10/dist-packages (from thinc<8.2.0,>=8.1.8->spacy->-r requirements.txt (line 9)) (0.0.4)\n",
            "Requirement already satisfied: MarkupSafe>=2.0 in /usr/local/lib/python3.10/dist-packages (from jinja2->spacy->-r requirements.txt (line 9)) (2.1.3)\n",
            "Requirement already satisfied: mpmath>=0.19 in /usr/local/lib/python3.10/dist-packages (from sympy->torch->-r requirements.txt (line 11)) (1.3.0)\n",
            "Collecting smmap<6,>=3.0.1 (from gitdb<5,>=4.0.1->GitPython!=3.1.29,>=1.0.0->wandb->-r requirements.txt (line 18))\n",
            "  Downloading smmap-5.0.0-py3-none-any.whl (24 kB)\n",
            "Collecting mypy-extensions>=0.3.0 (from typing-inspect>=0.4.0->dataclasses-json<0.6.0,>=0.5.7->langchain->-r requirements.txt (line 1))\n",
            "  Downloading mypy_extensions-1.0.0-py3-none-any.whl (4.7 kB)\n",
            "Building wheels for collected packages: pathtools\n",
            "  Building wheel for pathtools (setup.py) ... \u001b[?25l\u001b[?25hdone\n",
            "  Created wheel for pathtools: filename=pathtools-0.1.2-py3-none-any.whl size=8791 sha256=ac5386868bdeedcfb5558215c7475a15d124380351e0b26ba8e4e3127ca0fc72\n",
            "  Stored in directory: /root/.cache/pip/wheels/e7/f3/22/152153d6eb222ee7a56ff8617d80ee5207207a8c00a7aab794\n",
            "Successfully built pathtools\n",
            "Installing collected packages: tokenizers, safetensors, pathtools, typeguard, smmap, setproctitle, sentry-sdk, mypy-extensions, marshmallow, docker-pycreds, typing-inspect, openapi-schema-pydantic, marshmallow-enum, langchainplus-sdk, huggingface-hub, gitdb, transformers, GitPython, dataclasses-json, wandb, langchain, torchtyping\n",
            "Successfully installed GitPython-3.1.31 dataclasses-json-0.5.8 docker-pycreds-0.4.0 gitdb-4.0.10 huggingface-hub-0.15.1 langchain-0.0.217 langchainplus-sdk-0.0.17 marshmallow-3.19.0 marshmallow-enum-1.5.1 mypy-extensions-1.0.0 openapi-schema-pydantic-1.2.4 pathtools-0.1.2 safetensors-0.3.1 sentry-sdk-1.26.0 setproctitle-1.3.2 smmap-5.0.0 tokenizers-0.13.3 torchtyping-0.1.4 transformers-4.30.2 typeguard-4.0.0 typing-inspect-0.9.0 wandb-0.15.4\n"
          ]
        }
      ],
      "source": [
        "!pip install -r requirements.txt\n"
      ]
    },
    {
      "cell_type": "code",
      "execution_count": null,
      "metadata": {
        "colab": {
          "base_uri": "https://localhost:8080/"
        },
        "id": "Nf_hKe6LXWkF",
        "outputId": "d99c2eee-f756-414a-a1b6-ddabc5d9f60e"
      },
      "outputs": [
        {
          "name": "stdout",
          "output_type": "stream",
          "text": [
            "/content/ilo-sona/ilosona\n"
          ]
        }
      ],
      "source": [
        "%cd ilosona"
      ]
    },
    {
      "cell_type": "code",
      "execution_count": null,
      "metadata": {
        "id": "Ktxr8jV-W-h0"
      },
      "outputs": [],
      "source": [
        "!git branch aleksitesting"
      ]
    },
    {
      "cell_type": "code",
      "execution_count": null,
      "metadata": {
        "colab": {
          "base_uri": "https://localhost:8080/"
        },
        "id": "2T-34xo8XRPI",
        "outputId": "d6766d65-c120-4ece-b875-f62bd8b55071"
      },
      "outputs": [
        {
          "name": "stdout",
          "output_type": "stream",
          "text": [
            "Switched to branch 'aleksitesting'\n"
          ]
        }
      ],
      "source": [
        "!git checkout aleksitesting"
      ]
    },
    {
      "cell_type": "code",
      "execution_count": null,
      "metadata": {
        "id": "U_AK4EH9Ra9H"
      },
      "outputs": [],
      "source": [
        "#!python train.py"
      ]
    },
    {
      "cell_type": "code",
      "execution_count": null,
      "metadata": {
        "id": "OkWF0QuZXKO7"
      },
      "outputs": [],
      "source": [
        "#import sys\n",
        "#sys.path.append('/content/ilo-sona')"
      ]
    },
    {
      "cell_type": "code",
      "execution_count": null,
      "metadata": {
        "id": "d36ULogOXSCY"
      },
      "outputs": [],
      "source": [
        "#sys.path.append('/content/ilo-sona/ilosona')"
      ]
    },
    {
      "cell_type": "code",
      "execution_count": null,
      "metadata": {
        "id": "a7V8xIqhYrcK"
      },
      "outputs": [],
      "source": [
        "#%cd /content/ilo-sona\n"
      ]
    },
    {
      "cell_type": "code",
      "execution_count": null,
      "metadata": {
        "id": "Rpo_hKBYYvkN"
      },
      "outputs": [],
      "source": [
        "#!python ilosona/train.py"
      ]
    },
    {
      "cell_type": "code",
      "execution_count": null,
      "metadata": {
        "colab": {
          "base_uri": "https://localhost:8080/"
        },
        "id": "ISc9-bBzZMVP",
        "outputId": "45a385a7-0bfe-4582-e935-730e49821a91"
      },
      "outputs": [
        {
          "name": "stdout",
          "output_type": "stream",
          "text": [
            "python3: can't open file '/content/ilo-sona/ilosona/ilosona/train.py': [Errno 2] No such file or directory\n"
          ]
        }
      ],
      "source": [
        "#%cd /content/ilo-sona\n",
        "!python3 ilosona/train.py"
      ]
    },
    {
      "cell_type": "code",
      "execution_count": null,
      "metadata": {
        "colab": {
          "base_uri": "https://localhost:8080/"
        },
        "id": "Id73Qe9fazO2",
        "outputId": "746bc48e-4bc1-4f5a-ac8a-e604f73725c0"
      },
      "outputs": [
        {
          "data": {
            "text/plain": [
              "<torch._C.Generator at 0x7f1348320050>"
            ]
          },
          "execution_count": 91,
          "metadata": {},
          "output_type": "execute_result"
        }
      ],
      "source": [
        "import torch\n",
        "import torch.nn as nn\n",
        "import torch.nn.functional as F\n",
        "\n",
        "from dataclasses import dataclass\n",
        "\n",
        "from tqdm.auto import tqdm\n",
        "\n",
        "from pathlib import Path\n",
        "\n",
        "import matplotlib.pyplot as plt\n",
        "\n",
        "torch.manual_seed(1357)"
      ]
    },
    {
      "cell_type": "code",
      "execution_count": null,
      "metadata": {
        "id": "SijrrfdgYPxU"
      },
      "outputs": [],
      "source": []
    },
    {
      "cell_type": "code",
      "execution_count": null,
      "metadata": {
        "colab": {
          "base_uri": "https://localhost:8080/"
        },
        "id": "bHYsTTxYey5Q",
        "outputId": "a7dc4af2-9a69-4268-b662-1b89e7cd0489"
      },
      "outputs": [
        {
          "name": "stdout",
          "output_type": "stream",
          "text": [
            "[Errno 2] No such file or directory: 'ilo-sona'\n",
            "/content/ilo-sona\n",
            "corpus\tCorpus\tcorpus-test  ilosona  LICENSE  README.md  requirements.txt\n"
          ]
        }
      ],
      "source": [
        "%cd ilo-sona\n",
        "!ls\n",
        "import glob\n",
        "\n",
        "file_paths = glob.glob('corpus/Derivative Works of (C)/Michael Freedman/LittlePrince/*.txt')\n",
        "\n",
        "data = \"\"\n",
        "\n",
        "for file_path in file_paths:\n",
        "    with open(file_path, 'r', encoding='utf-8') as f:\n",
        "        data += f.read() + ' '\n"
      ]
    },
    {
      "cell_type": "code",
      "execution_count": null,
      "metadata": {
        "colab": {
          "base_uri": "https://localhost:8080/",
          "height": 131
        },
        "id": "xbC2QKv_X4UP",
        "outputId": "0bb99dc6-3345-4cce-c13d-e523df9328af"
      },
      "outputs": [
        {
          "ename": "SyntaxError",
          "evalue": "ignored",
          "output_type": "error",
          "traceback": [
            "\u001b[0;36m  File \u001b[0;32m\"<ipython-input-93-2cbd213778f9>\"\u001b[0;36m, line \u001b[0;32m1\u001b[0m\n\u001b[0;31m    '''%cd ilo-sona\u001b[0m\n\u001b[0m    ^\u001b[0m\n\u001b[0;31mSyntaxError\u001b[0m\u001b[0;31m:\u001b[0m incomplete input\n"
          ]
        }
      ],
      "source": [
        "'''%cd ilo-sona\n",
        "!ls\n",
        "with open('corpus-test/jan lawa Oliki Soweli Elepanto.txt','r',encoding='utf-8') as f:\n",
        "    data = f.read()"
      ]
    },
    {
      "cell_type": "code",
      "execution_count": null,
      "metadata": {
        "id": "JZkGxv1sYIVl"
      },
      "outputs": [],
      "source": [
        "import os\n",
        "print(os.getcwd())"
      ]
    },
    {
      "cell_type": "code",
      "execution_count": null,
      "metadata": {
        "id": "TXkbekdFYL6k"
      },
      "outputs": [],
      "source": [
        "'''class CharacterLevelTokenizer:\n",
        "    def __init__(self,data):\n",
        "        self.data = data\n",
        "        self.vocab = sorted(list(set(self.data)))\n",
        "        self.VOCAB_SIZE = len(self.vocab)\n",
        "\n",
        "        self.i_s = {i:s for i,s in enumerate(self.vocab)}\n",
        "        self.s_i = {s:i for i,s in self.i_s.items()}\n",
        "\n",
        "    def encode(self,s):\n",
        "        return torch.tensor([self.s_i[c] for c in s],dtype=torch.long)\n",
        "\n",
        "    def decode(self,s):\n",
        "        return ''.join([self.i_s[i.item()] for i in s])\n",
        "\n",
        "tokenizer = CharacterLevelTokenizer(data)'''\n",
        "\n",
        "# Chat GPT edited\n",
        "class WordLevelTokenizer:\n",
        "    def __init__(self, data):\n",
        "        self.data = data\n",
        "        self.vocab = sorted(list(set(self.data.split())))\n",
        "        self.VOCAB_SIZE = len(self.vocab)\n",
        "\n",
        "        self.i_s = {i: s for i, s in enumerate(self.vocab)}\n",
        "        self.s_i = {s: i for i, s in self.i_s.items()}\n",
        "\n",
        "    def encode(self, s):\n",
        "        return torch.tensor([self.s_i[word] for word in s.split()], dtype=torch.long)\n",
        "\n",
        "    def decode(self, s):\n",
        "        return ' '.join([self.i_s[i.item()] for i in s])\n",
        "\n",
        "tokenizer = WordLevelTokenizer(data)\n"
      ]
    },
    {
      "cell_type": "code",
      "execution_count": null,
      "metadata": {
        "colab": {
          "base_uri": "https://localhost:8080/",
          "height": 36
        },
        "id": "b8FAv9UUa4gc",
        "outputId": "9048ab39-02aa-40a0-8623-615637983558"
      },
      "outputs": [
        {
          "data": {
            "application/vnd.google.colaboratory.intrinsic+json": {
              "type": "string"
            },
            "text/plain": [
              "'cpu'"
            ]
          },
          "execution_count": 127,
          "metadata": {},
          "output_type": "execute_result"
        }
      ],
      "source": [
        "@dataclass\n",
        "class Config:\n",
        "    block_size = 256 # context-length\n",
        "    batch_size = 64 # mini-batch size\n",
        "    vocab_size = tokenizer.VOCAB_SIZE\n",
        "    n_embed = 256\n",
        "    n_heads = 8\n",
        "    head_size = n_embed // n_heads # computes to 384/6=64 or 128/4=32 or 256/8\n",
        "\n",
        "    n_layers = 3\n",
        "\n",
        "    train_iters = 10\n",
        "    val_iters = 1\n",
        "    lr = 3e-4\n",
        "\n",
        "    attn_dropout = 0.1\n",
        "    block_dropout = 0.1\n",
        "\n",
        "    device = 'cuda' if torch.cuda.is_available() else 'cpu'\n",
        "\n",
        "Config.device"
      ]
    },
    {
      "cell_type": "code",
      "execution_count": null,
      "metadata": {
        "id": "ndrsqrODa77b"
      },
      "outputs": [],
      "source": [
        "class FakeShakespeareDataset:\n",
        "    def __init__(self,Config, is_test=False) -> None:\n",
        "        self.tokenizer = WordLevelTokenizer(data)\n",
        "        self.is_test = is_test\n",
        "        self.full_data = self.tokenizer.encode(self.tokenizer.data)\n",
        "        if self.is_test:\n",
        "            self.data = self.full_data[int(0.9*len(self.full_data)):]\n",
        "        else:\n",
        "            self.data = self.full_data[:int(0.9*len(self.full_data))]\n",
        "        self.block_size = Config.block_size\n",
        "        self.batch_size = Config.batch_size\n",
        "\n",
        "    def __len__(self) -> int:\n",
        "        return len(self.data)\n",
        "\n",
        "    def get_block_size(self) -> int:\n",
        "        return self.block_size\n",
        "\n",
        "    def get_vocab_size(self) -> int:\n",
        "        print(self.tokenizer.VOCAB_SIZE, \"thats the vocab size\")\n",
        "        return self.tokenizer.VOCAB_SIZE\n",
        "\n",
        "    def get(self):\n",
        "        ix = torch.randint(len(self.data) - self.block_size, (self.batch_size,))\n",
        "        x = torch.stack([self.data[i:i+self.block_size] for i in ix])\n",
        "        y = torch.stack([self.data[i+1:i+self.block_size+1] for i in ix])\n",
        "        return x,y"
      ]
    },
    {
      "cell_type": "code",
      "execution_count": null,
      "metadata": {
        "id": "ehGhXUEmbK8_"
      },
      "outputs": [],
      "source": [
        "class AttentionHead(nn.Module):\n",
        "    def __init__(self, Config):\n",
        "        super().__init__()\n",
        "\n",
        "        self.block_size = Config.block_size\n",
        "        self.n_embed = Config.n_embed\n",
        "        self.head_size = Config.head_size\n",
        "\n",
        "        self.key = nn.Linear(self.n_embed, self.head_size, bias=False)\n",
        "        self.query = nn.Linear(self.n_embed, self.head_size, bias=False)\n",
        "\n",
        "        self.value = nn.Linear(self.n_embed, self.head_size, bias=False)\n",
        "\n",
        "        self.register_buffer(\n",
        "            'tril',\n",
        "            torch.tril(torch.ones(self.block_size,self.block_size))\n",
        "        )\n",
        "\n",
        "        self.dropout = nn.Dropout(Config.attn_dropout)\n",
        "\n",
        "    def forward(self, x):\n",
        "\n",
        "        B,T,C = x.shape\n",
        "\n",
        "        k = self.key(x)\n",
        "        q = self.query(x)\n",
        "\n",
        "        wei = q@k.transpose(-2,-1) * (C ** 0.5)\n",
        "        wei = wei.masked_fill(self.tril[:T,:T]==0,float('-inf'))\n",
        "        wei = F.softmax(wei, dim=-1)\n",
        "        wei = self.dropout(wei)\n",
        "\n",
        "        v = self.value(x)\n",
        "        out = wei @ v\n",
        "\n",
        "        return out"
      ]
    },
    {
      "cell_type": "code",
      "execution_count": null,
      "metadata": {
        "id": "gKSfBH9nbRKR"
      },
      "outputs": [],
      "source": [
        "class MultiHeadAttention(nn.Module):\n",
        "    def __init__(self, Config):\n",
        "        super().__init__()\n",
        "        self.n_heads = Config.n_heads\n",
        "        self.head_size = Config.head_size\n",
        "\n",
        "        self.heads = nn.ModuleList([AttentionHead(Config) for _ in range(self.n_heads)])\n",
        "\n",
        "        self.projection = nn.Linear(Config.n_embed, Config.n_embed)\n",
        "\n",
        "        self.dropout = nn.Dropout(Config.attn_dropout)\n",
        "\n",
        "    def forward(self,x):\n",
        "        x = torch.cat([h(x) for h in self.heads],dim=-1)\n",
        "        x = self.projection(x)\n",
        "        x = self.dropout(x)\n",
        "        return x"
      ]
    },
    {
      "cell_type": "code",
      "execution_count": null,
      "metadata": {
        "id": "m8OZQzsDbUKr"
      },
      "outputs": [],
      "source": [
        "class FeedForward(nn.Module):\n",
        "    def __init__(self, Config):\n",
        "        super().__init__()\n",
        "        self.net = nn.Sequential(\n",
        "            nn.Linear(Config.n_embed,Config.n_embed * 4),\n",
        "            nn.ReLU(),\n",
        "            nn.Linear(Config.n_embed * 4, Config.n_embed), # projection\n",
        "            nn.Dropout(Config.block_dropout)\n",
        "        )\n",
        "    def forward(self,x):\n",
        "        return self.net(x)"
      ]
    },
    {
      "cell_type": "code",
      "execution_count": null,
      "metadata": {
        "id": "5D66enfjbW2a"
      },
      "outputs": [],
      "source": [
        "class TransformerBlock(nn.Module):\n",
        "    def __init__(self, Config):\n",
        "        super().__init__()\n",
        "        self.attn = MultiHeadAttention(Config)\n",
        "        self.ff = FeedForward(Config)\n",
        "        self.ln1 = nn.LayerNorm(Config.n_embed)\n",
        "        self.ln2 = nn.LayerNorm(Config.n_embed)\n",
        "\n",
        "    def forward(self,x):\n",
        "        x = x + self.attn(self.ln1(x))\n",
        "        x = x + self.ff(self.ln2(x))\n",
        "\n",
        "        return x"
      ]
    },
    {
      "cell_type": "code",
      "execution_count": null,
      "metadata": {
        "id": "C7BmTO74bZKK"
      },
      "outputs": [],
      "source": [
        "class FakeShakespeareGPT(nn.Module):\n",
        "    def __init__(self,Config):\n",
        "        super().__init__()\n",
        "\n",
        "        self.n_embed = Config.n_embed\n",
        "        self.block_size = Config.block_size\n",
        "\n",
        "        self.token_embedding_table = nn.Embedding(Config.vocab_size,self.n_embed)\n",
        "        self.pos_embedding_table = nn.Embedding(self.block_size, self.n_embed)\n",
        "\n",
        "        self.blocks = nn.Sequential(\n",
        "            *[TransformerBlock(Config)]*Config.n_layers,\n",
        "            nn.LayerNorm(self.n_embed)\n",
        "        )\n",
        "\n",
        "        self.lm_head = nn.Linear(self.n_embed,Config.vocab_size)\n",
        "\n",
        "    def forward(self,idx):\n",
        "\n",
        "        B,T = idx.shape\n",
        "\n",
        "        token_embs = self.token_embedding_table(idx)\n",
        "        pos_embs = self.pos_embedding_table(torch.arange(T,device=Config.device))\n",
        "\n",
        "\n",
        "        x = token_embs + pos_embs\n",
        "        x = self.blocks(x)\n",
        "        logits = self.lm_head(x)\n",
        "\n",
        "        return logits\n",
        "\n",
        "\n",
        "    def generate(self,idx,total):\n",
        "        for _ in range(total):\n",
        "            idx_cond = idx[:, -self.block_size:]\n",
        "            logits= self(idx_cond)\n",
        "            logits = logits[:, -1, :]\n",
        "            probs = F.softmax(logits, dim=-1)\n",
        "            idx_next = torch.multinomial(probs, num_samples=1)\n",
        "            idx = torch.cat((idx, idx_next), dim=1)\n",
        "        return idx"
      ]
    },
    {
      "cell_type": "code",
      "execution_count": null,
      "metadata": {
        "id": "-0espgNjbhku"
      },
      "outputs": [],
      "source": [
        "train_ds = FakeShakespeareDataset(Config)\n",
        "val_ds = FakeShakespeareDataset(Config,is_test=True)"
      ]
    },
    {
      "cell_type": "code",
      "execution_count": null,
      "metadata": {
        "id": "c_Ql9m04blVu"
      },
      "outputs": [],
      "source": [
        "lm = FakeShakespeareGPT(Config)\n",
        "lm = lm.to(device=Config.device)"
      ]
    },
    {
      "cell_type": "code",
      "execution_count": null,
      "metadata": {
        "id": "bHNgTcXBbn41"
      },
      "outputs": [],
      "source": [
        "optim = torch.optim.AdamW(lm.parameters(), lr=Config.lr)\n"
      ]
    },
    {
      "cell_type": "code",
      "execution_count": null,
      "metadata": {
        "id": "lOiGBeLZbr-8"
      },
      "outputs": [],
      "source": [
        "def loss_fn(logits, targets):\n",
        "    B,T,C = logits.shape\n",
        "    logits = logits.view(B*T, C)\n",
        "    targets = targets.view(B*T)\n",
        "    loss = F.cross_entropy(logits,targets)\n",
        "    return loss"
      ]
    },
    {
      "cell_type": "code",
      "execution_count": null,
      "metadata": {
        "id": "6pizcVPWbuC1"
      },
      "outputs": [],
      "source": [
        "def train_N_iters():\n",
        "    lm.train()\n",
        "    train_step_losses = []\n",
        "    for batch in tqdm(range(Config.train_iters)):\n",
        "        optim.zero_grad()\n",
        "        inputs, targets = train_ds.get()\n",
        "        inputs, targets = inputs.to(device=Config.device), targets.to(device=Config.device)\n",
        "        logits = lm(inputs)\n",
        "        loss = loss_fn(logits,targets)\n",
        "        loss.backward()\n",
        "        optim.step()\n",
        "        train_step_losses.append(loss.item())\n",
        "\n",
        "        if batch%(Config.train_iters//10)==0 or batch==Config.train_iters-1:\n",
        "            print(f\"batch {batch} train step loss: {loss.item()}\")\n",
        "\n",
        "        del inputs, targets, loss, logits\n",
        "\n",
        "    return train_step_losses\n",
        "\n",
        "@torch.no_grad()\n",
        "def valid_N_iters():\n",
        "    lm.eval()\n",
        "    val_step_losses = []\n",
        "    for batch in tqdm(range(Config.val_iters)):\n",
        "        inputs, targets = val_ds.get()\n",
        "        inputs, targets = inputs.to(device=Config.device), targets.to(device=Config.device)\n",
        "        logits = lm(inputs)\n",
        "        loss = loss_fn(logits,targets)\n",
        "        val_step_losses.append(loss.item())\n",
        "\n",
        "        #if batch%(Config.val_iters//10)==0 or batch==Config.val_iters-1:\n",
        "        #    print(f\"batch {batch} valid step loss: {loss.item()}\")\n",
        "\n",
        "        del inputs, targets, loss, logits\n",
        "\n",
        "    return val_step_losses\n"
      ]
    },
    {
      "cell_type": "code",
      "execution_count": null,
      "metadata": {
        "id": "JDrHeTbcbyCC"
      },
      "outputs": [],
      "source": [
        "def save_lm():\n",
        "    state_dict = lm.state_dict()\n",
        "    save_path = Path('./').resolve() / 'fakeshakespeareGPT'\n",
        "    save_path.mkdir(exist_ok=True)\n",
        "    model_path = save_path / f'fakeshakespeareGPT.pth'\n",
        "    torch.save(state_dict, model_path)"
      ]
    },
    {
      "cell_type": "code",
      "execution_count": null,
      "metadata": {
        "id": "wqVPm3xxb4aq"
      },
      "outputs": [],
      "source": [
        "def train_lm():\n",
        "    train_losses = train_N_iters()\n",
        "    valid_losses = valid_N_iters()\n",
        "    save_lm()\n",
        "    return train_losses, valid_losses"
      ]
    },
    {
      "cell_type": "code",
      "execution_count": null,
      "metadata": {
        "colab": {
          "base_uri": "https://localhost:8080/",
          "height": 255,
          "referenced_widgets": [
            "0397b8fa4dc040c4a53dc0da9610add8",
            "baf7d697d23e49528b91d55c0dd69205",
            "7423ce2670f543b5b23d1b73be8c80d8",
            "eb6d597a8f064840bfbac5308a16a528",
            "0ddb438364a14e90b6da969f76c798a8",
            "a40c934180b74b298c13b0563c87822e",
            "9468264bde044db4a7d6c2a48de3d70f",
            "ec62fb42b7624c6986693b8d9ca24b07",
            "ae521bf5c8014d5e8d3543e1c82a5763",
            "5e275065dee042ffb4591426e48c5f09",
            "799ebbfa40ba4042ac4b5effff2bb29c",
            "3d594a16a45e41ada6e1ba5fbf9718d9",
            "bf165c98b3084f49b6092a2ac9f9a951",
            "0a0d01a8b0bf40c58f1dbff8f6a8ad1f",
            "2263e617c23d4a918cad2375d50e83e5",
            "236aff83884a4ae9b45f74825c4f741d",
            "1afbcc606f424b7b8008b0375dd0c407",
            "5d5b7ca1b86a453781668266d5235edb",
            "c054fdd00ebd4e69b5cefefc73561196",
            "021c61d8aafc4f13b807cff43bd0111e",
            "ac30400e0e95485a8fc6a707f47dbeb2",
            "ca66b54a147c4dd489b61226bf9ca230"
          ]
        },
        "id": "Gkyh8_mob7GF",
        "outputId": "a890c021-6063-422b-c936-452bd2e42170"
      },
      "outputs": [
        {
          "data": {
            "application/vnd.jupyter.widget-view+json": {
              "model_id": "0397b8fa4dc040c4a53dc0da9610add8",
              "version_major": 2,
              "version_minor": 0
            },
            "text/plain": [
              "  0%|          | 0/10 [00:00<?, ?it/s]"
            ]
          },
          "metadata": {},
          "output_type": "display_data"
        },
        {
          "name": "stdout",
          "output_type": "stream",
          "text": [
            "batch 0 train step loss: 6.5989251136779785\n",
            "batch 1 train step loss: 6.392740249633789\n",
            "batch 2 train step loss: 6.1711273193359375\n",
            "batch 3 train step loss: 5.979978084564209\n",
            "batch 4 train step loss: 5.801365375518799\n",
            "batch 5 train step loss: 5.652804851531982\n",
            "batch 6 train step loss: 5.520809173583984\n",
            "batch 7 train step loss: 5.422130107879639\n",
            "batch 8 train step loss: 5.287404537200928\n",
            "batch 9 train step loss: 5.2230634689331055\n"
          ]
        },
        {
          "data": {
            "application/vnd.jupyter.widget-view+json": {
              "model_id": "3d594a16a45e41ada6e1ba5fbf9718d9",
              "version_major": 2,
              "version_minor": 0
            },
            "text/plain": [
              "  0%|          | 0/1 [00:00<?, ?it/s]"
            ]
          },
          "metadata": {},
          "output_type": "display_data"
        }
      ],
      "source": [
        "tl,vl=train_lm()"
      ]
    },
    {
      "cell_type": "code",
      "execution_count": null,
      "metadata": {
        "colab": {
          "base_uri": "https://localhost:8080/",
          "height": 452
        },
        "id": "ppcIC4j5b-RV",
        "outputId": "d245218e-be7e-4c0d-f055-a4d2a9214244"
      },
      "outputs": [
        {
          "data": {
            "image/png": "[encoded data removed]",
            "text/plain": [
              "<Figure size 640x480 with 1 Axes>"
            ]
          },
          "metadata": {},
          "output_type": "display_data"
        }
      ],
      "source": [
        "plt.plot(tl,label='train loss',color='orange')\n",
        "plt.plot(vl,label='valid loss',color='blue')\n",
        "plt.title('FakeShakespeare GPT Losses')\n",
        "plt.legend()\n",
        "plt.show()"
      ]
    },
    {
      "cell_type": "code",
      "execution_count": null,
      "metadata": {
        "colab": {
          "base_uri": "https://localhost:8080/"
        },
        "id": "6XU-PhnIm974",
        "outputId": "0c7ee743-6132-41ea-d6d0-39e4a5623c25"
      },
      "outputs": [
        {
          "name": "stdout",
          "output_type": "stream",
          "text": [
            "torch.Size([1])\n"
          ]
        },
        {
          "data": {
            "text/plain": [
              "torch.Size([1, 1])"
            ]
          },
          "execution_count": 157,
          "metadata": {},
          "output_type": "execute_result"
        }
      ],
      "source": [
        "testtokenize = tokenizer.encode(\"seme\")\n",
        "print(testtokenize.shape)\n",
        "ids = testtokenize.view(1,-1)\n",
        "ids.shape"
      ]
    },
    {
      "cell_type": "code",
      "execution_count": null,
      "metadata": {
        "colab": {
          "base_uri": "https://localhost:8080/"
        },
        "id": "7FPU_7NCnjOY",
        "outputId": "c8e48259-93d6-4356-81ff-1a6e678a4e5e"
      },
      "outputs": [
        {
          "data": {
            "text/plain": [
              "torch.Size([1, 1])"
            ]
          },
          "execution_count": 158,
          "metadata": {},
          "output_type": "execute_result"
        }
      ],
      "source": [
        "torch.zeros((1,1),dtype=torch.long,device=Config.device).shape"
      ]
    },
    {
      "cell_type": "code",
      "execution_count": null,
      "metadata": {
        "colab": {
          "background_save": true,
          "base_uri": "https://localhost:8080/"
        },
        "id": "f9WRdog3inq_",
        "outputId": "1a111822-7a4c-49c4-b706-13d14e8b5cd0"
      },
      "outputs": [
        {
          "name": "stdout",
          "output_type": "stream",
          "text": [
            "generated (100 tokens)\n",
            "==================================================\n",
            "seme wan. pi poki. e 3251? 'toki!' tenpo.' olin li suno: 'pilin ante.' pilin kin tu!' loje: poki ijo?' musi! tomo-tawa-linja jan.' ma.' linja: kin mute mi! lape.' li pakala moli lon, telo (mi sike. ona?' sike 'a?' loje?? wan li 'soweli wawa. 'ken ma. seme?!' la laso.' li jo toki! li moku jelo. kalama ona ijo!' ni esun poka. oko!' o, pali li Ilopa! nanpa! musi: seme?! li jo sina.' 11. wawa. ona? li loje! suli.) 'pona! telo?' li kasi.' tomo-tawa-kon! laso.' 28. ona ona. li nena?' ali palisa sitelen. seme?' li mute nimi 'kalama li ijo?' pakala sewi. nasa!\n",
            "==================================================\n",
            "\n",
            "\n",
            "generated (300 tokens)\n",
            "==================================================\n",
            "seme jo kin loje, tu!' e 'lipu loje li tu!' pilin wawa.' palisa 11. kasi. lipu. ''pali loje?? lon! nanpa! monsi lukin. weka.' toki: ante. sina; musi. tawa! wan! Ilopa! noka lawa.' moli!'. e suno pimeja suli.) e ni!' laso Masu. 'ali nanpa seli 'tawa 'pali awen. taso, 'wawa.' waso''. ijo.' seli!' li 24. ala?' ni: lili mi jan jan-tawa.' telo?' lon! kasi lili jo sina!' 'wawa.' meli.' 'ala. ante!' pipi! ona li 10. seme ''pali telo?' sinpin. 'a!' utala mute.' lili li ma?' ona li pona? akesi mi e e sona ike?' awen!' suwi open. Tuki noka. telo jan-tawa: nasa...' olin.' supa ijo. oko! pona kon! sama ona. jelo. 'tawa kon li ala.' mute. seme?' li poki. jaki!' li ijo.' tan 14. loje tawa lape.' jan-tawa. kiwen telo. li ijo' 'pona wan Upita noka mute?' wile. wawa: jan-tawa.' kasi.' 1. ona! pan ona. li li telo. ala; 'ni sina; 13. sin ike.' musi.' weka; oko.' seme soweli?' 'luka jan-tawa.' pona. pona? 11. kin.' e kin, len. wan seme. toki. pilin loje: ni: len. wan. \"Sipilea\" ijo' a! e mama sina; li e kule 'nena 'ma ma.' sona.' mi nimi ala kiwen. nasin. awen. tu tawa!' oko.' jo oko ken...' kin kama. sijelo. anpa e suli; suli; mute. 'a? pilin 'lon e 'wawa.' Alisona. 17. li ala, wan nanpa. waso e sijelo. 23. nasin 3251? jan mi sona 24. 'kon ala?' pona ali.' li moku pipi! jan li lawa. mi!' ni!' ante. li jo seme?' tenpo mute! suno. suno: tu.' pona: lon!' 'pana moku?' 'tenpo tawa.' kin li suwi wawa!' uta.' telo. tomo.' 8. tu!' pakala. weka anpa li pona! 'tenpo waso. li sona pilin kin. loje: ona?' 'tawa.' nasa seme?!' mi mi 18. ala?' li 'tawa.' poki. li kama 'jan sewi! musi! sike lawa li wan-wan-tu-tu-tu...' 'ilo suli! mute... sina.\n",
            "==================================================\n",
            "\n",
            "\n",
            "generated (500 tokens)\n",
            "==================================================\n",
            "seme mi seli ''pali 28. 'sike ike!' kiwen weka.' nanpa! taso, li Masu. kiwen. 24. li 'a! ijo!' 'oko 'kon pipi li pan.' li len suli?' lili!' sin ma.' jan-tawa.' tu.' a! li li pilin: 25. li ona?' lukin e weka?' mi sike.' ma ''ijo'' e jan. 'poki sewi 9. li lukin! li musi kon.' pana. awen li jaki. wawa. 'tomo lape; lili, li nena nasa...' pi lon. taso, taso ona. kiwen. moli li 'toki!' mute wan-wan-tu-tu-tu...' ma, meli.' lili?' suli 23. linja. lili, soweli 'lukin 'pona! 11. 'mi anpa. sama. jan 28. kasi.' mi suli! pimeja seli! pakala. o jo tawa! tan-ma-ni luka kin, li ona tenpo li tenpo poki.' sewi: soweli telo soweli mi toki. wan.' li tan 'taso, mi \"Lusia\" seli! e tomo-tawa-kon. lukin, ken weka...' kasi. e meli. wan-wan-tu-tu-tu...' pilin. jan lape. \"Sahala\" toki 5. li awen?' linja...' suli. toki.' 'toki!' sina! ken suwi musi. mun. li li moli jo e tenpo 'kon poki.' Upita moku 'taso.' 'oko musi pakala 14. meli!' ni. seme? li li sama suwi.' mi tenpo la luka suno? pi ona telo?' kiwen. musi ona.' ali! li mute mi 'anpa.' Ilopa! \"Aperika\".' ona. jaki!' e taso 'lon sama nasin jan.' jan kin.' sona.' li e jan-tawa Masu. lili, li tomo-tawa tomo-tawa-linja sinpin. tawa!' a! akesi. pali.' li ali pilin e kin. toki nasa: tawa.' wan.' lape.' 17. li awen?' li mi pilin lon: 26. lon.' 'ken li ken...' ma suli. mute. 'o weka.' li toki-pona. li li sewi.' tawa. waso ijo?' 25. li li lukin! anpa.' 19. wan! suno toki. 'taso.' li ala, li 'taso, li 'ilo Toki. noka ken...' wan. loje. pona li ona... 'ni kama.' 1. li 'seme?' ni. 'lukin pilin meli.' meli!' oko.' li lon, lape li mute - ken...' 'taso, jelo 24. soweli sewi!' ona poki...' sin nanpa! ken sewi. kon! ''ijo'' pi 'moku'. la ko kiwen mun ijo tan-ma-ni 'lipu ilo mute... mi 26. poka. e en tawa Upita jan li sona: pilin Upita esun e jan: ma, jaki!' oko loje.' ala?' mi seme e li suli.' nasin 'tawa.' li waso ma, ni pilin sijelo. ante. 'wawa.' mi. jan li suno ike en anu tawa!' 17. e seme?' musi!' awen. mute Ilopa! pilin.' sitelen. 'o musi mi lape.' taso...mi e li ni?' li meli!' li suli. ma?' ike! suno: suli suli... ijo...' jan. pipi?' li ijo...' supa 3251? e palisa. 'tomo 27. li seme? wawa ali mute'. lili akesi. pona.) lon, ike nasa awen li o, pimeja li ni: ''mi suno? meli!' kama moli e len li kiwen.' 22. kasi.' e laso.' ante jan pali \"Sipilea\" 'a! musi: 3251? 'sina ijo?' moku?' e ona taso seli!' li 'ijo li soweli. kiwen ''ijo'' lukin tenpo lili lili ike: lon! 'taso.' mi: pona tenpo.' awen nasa...' 'oko ''pali ni!' taso, kasi!' luka toki e \"Uransa\". jan!' pilin.' uta en 11. li \"la sina. li kalama uta. pimeja akesi. li jo kama!'. suli.) pakala?' kasi.' \"la li sina!' ala. moku!' mama sike lili li ike!' o, la, la linja?!' utala mute!'\n",
            "==================================================\n",
            "\n",
            "\n",
            "generated (700 tokens)\n",
            "==================================================\n",
            "seme li nanpa! ala; luka jan lawa lape; e mi kepeken 'toki o tawa-soweli-sina, kon.' \"Aperika\".' esun 3251? 'o loje. kule ante!' oko. mi mi! pilin e meli. ma lili olin ma palisa tu.' ante kin, nena e telo mi! utala mani li pilin ike: ike?' tawa.' suli e soweli li mi - toki: mi soweli wawa: lili wawa moli noka sona 'a? poki...' jo poki!' suli?' akesi. li 'tomo 1. nasa...' pali suli.) nena?' lukin pipi?' mi. mi tawa sewi!' tenpo' pipi?' 9. e luka wile ona telo. lili. tu!' li toki.' moku. tomo-tawa-linja kin. wan.' lili li ''ijo'' 'a! tu.' meli!' jo telo mi...mi telo?' pona; linja: li weka!' pali ma, wawa ''o oko!' ken Tuki ona 'ken suwi.' 'lipu musi! ni. lawa awen ni li kama ante.' kulupu ali o 3251? nasa...' sitelen. lape...mi li wan: li pona suno kute 11. moku!' 'ona pini. esun 'mi li 'toki!..toki!..toki!..' ma?' (jan-tawa palisa wawa. mute!' taso, ona. ona?' toki? li sewi! mun. tan suli! ike mi nanpa jo loje, ni: musi! laso.' e mani. li kama 'ijo pi jan ilo li poki e a! ma ante!' sina: li 17. 8. oko!' oko!' nasa!' pona, sona.' li sina; kin. suli sona. 'lukin \"Lusia\" li 'ijo sama taso...mi tawa. soweli?' ona!' wan. jo sona palisa kin.' sama?' soweli: ali li awen. mute! mi...mi tan lili. suno noka. li tomo-tawa (mi e awen?' soweli.' open 'ijo e mi li ma. lon...' musi!' weka.' pona? telo suli! suli! e pilin.' li seme? li kiwen.' li li lupa kon!' toki: mi tenpo ni... 14. nasa! tawa!' pipi?' li sama ko ante!' tu!' pona! utala 'lon tenpo 13. e li lili. e sewi! li pimeja! pona! wawa!' open toki: suno: taso, li moku?' kon.' awen telo suno! li li kama; ona lili ala ijo. ala sitelen ala open li pilin pi sina. 2. 'moli.' 'jan 'pilin mi kama.' en pilin.' ali lon!' jan. nasa mi sitelen: pakala mi! uta.' wawa: 'kon tu!' ijo. lon! pini ma.' suwi. tawa 'tenpo poki. pona!' li mute.' li taso 'jan kin.' li suno: ona tawa-soweli-sina, 'ni jan ona! seme?!' lili?' e ante!' pipi 'toki!..toki!..toki!..' li ala e 'lukin nimi li kama!'. pona? la ali! awen seme? pilin.' jan ilo li 'jo mi! li kute telo?' li ona?' tenpo. li kulupu li 21. 12. li loje?? sina.' taso!' 'ni nena?' e tenpo.' utala. seme. seme? suli.' seme. sama pona; mute!' loje?? taso lawa. e li en kama mi seli. li moku!' oko! pipi! toki!' ona mi nanpa! Amelika 'poki ala sewi!' li 'jan 'ona lupa 17. li oko!' lukin ni. sinpin nanpa! li sama pilin 'sina ike?' tan tu. e e suno: jan-tawa.' e 26. tenpo. jan suli meli! suli. tu awen laso! ante. li ma, toki-pona. 'ijo li lili li li suwi. mi e pi mute. suno pali.' moku?' 'nena ma 'nena 'lon. linja sona tawa-soweli-sina, open. ma.' pona; tu!' kama.' 'toki!' palisa sike en pona; li suwi.' mi ike pi weka...' pilin li 'mi mute: e li sona li 'pona. seme. sewi. 'lipu utala.' sewi.' ona?' tu. linja: 'pona, ona.' poka. la ali 'lipu la mute kalama. 'tomo luka.' ni.' sona. lili: pona! Ilopa! li oko. weka!' 'o musi.' li jan-tawa: kulupu loje lili tawa musi: ona nasa...' 'taso.' toki? toki!' pali.' mani. mute...' akesi ala e 16. ike.' e mani!' sina: moli?!' 'wawa.' open; sama sewi li olin ilo 'ni mute jelo.' 'jan li lon...' ala 26. mi loje, mi!' li noka ike?' oko.' ike.' loje. waso li walo sona soweli \"Lusia\" tomo-tawa-kon. tawa suli li wan. kili 'ken ''mi 11. suli jo lili soweli.' mi kiwen. ala. nasa: pona? 16. lon-ma-jelo 'tawa.' 'ni 'jo pi meli. 'taso.' moli ma.' 'lon loje.' la sina...' pilin tomo-tawa-linja li ona.' pimeja seli.' ona. jo wan. 15. e ona li li 8. pipi! lili lon. 'ilo lili. li e tomo.' sitelen suli loje.' pipi! ilo mani. sin: seli! suli lon, seli...) pona: lon: pilin e ala!' 'kalama li lukin!' mani. li ko sona e ante. taso ma, nanpa! nasa!' seme?!' ona pona kon.' 3251. soweli. 'pona, ali! li ona?' ike Toki. suwi mi mi ken suli... noka kon. e poki.' 'sike jan suli!'' seli! 'toki.' 'seme?' kiwen. pona; mute?' ala anu\n",
            "==================================================\n",
            "\n",
            "\n",
            "generated (1000 tokens)\n",
            "==================================================\n",
            "seme weka. 'taso.' lon!' li telo tenpo.' ''mi luka li jo jelo.' \"Oselia\" kulupu kama.' pali luka sama kepeken 'wawa.' lon! musi. suli! ona. lukin, lili, moli seme. sitelen: 'a..a...tenpo 'pana ike. linja li lon!' ona?' akesi mije sitelen poki li li pilin.' lili; - jan. e li kule taso, e lili lukin!' Masu. ma. mi ijo...' tomo-tawa musi: jan!' kin li pipi! 'a? li 14. ona! seli e ali. 3251? mute. ni. pona...' kama!'. linja!' mute poki ilo li 'suno 'ona kin 26. ni?' mi. (mi 'jo 'pona, loje, mi?' tawa''. jan ''ijo'' nena tawa! mi suwi pona: suno: meli sama nasin. ma, jan li lon! tomo-tawa-kon. nena weka; 'wan \"Sipilea\" mama kalama kin akesi mute?' ona lawa nasa... li soweli: suli: len. 12. telo. Alisona. linja poki 3. musi. sitelen. pi mi. li ma li mi! \"Apurika\" ona! li wan? 'jo 'palisa mi tu wan-wan-tu-tu-tu...' tenpo toki: o tenpo. ante?' ike!' sona mute.' 9. seme?!' li seme? akesi moku. ona jan ilo lon: mute?' loje. utala mute?' loje?' toki.' meli. sama li li soweli lili. moku. 18. 'suno 19. awen mute?' e jo mi pilin: li seme: pona, jelo tenpo. wan-wan-tu-tu-tu...' lukin.' li ala mi en tenpo mi?' mi? tomo-tawa-kon. sama tenpo.' li mi toki? li 'mi tomo.' ona. sin anpa. ike.' oko! seme? ni!' luka kama!'. ilo waso''. musi. ona?' pona; li ''pali e ni!' jan tu!' la, 'sike tomo ken...' lili; suli ni. tu, lon pona.' kama. mi kiwen jan ike.' linja?!' li toki. tu.' moku oko.' kiwen.' 'lukin ante. mi!' jan-tawa. li jan musi.' tenpo 'nena awen waso telo ona ona. lipu. kama.' pipi pi 'moli.' ike!' kute? e ike?' tawa! e kin suli?' 'lon li tawa-soweli-sina, mani tu. lawa pona. sin.' 'lukin pali.' suwi.' lili!' lukin 'tawa.' 'tenpo mute.' 'ken ma, sewi ala...' 'taso.' ike.' awen?' li 'tenpo kama.' mi...mi poki. mute li kin.' e nena. poki. lape! kama tawa. li 1. toki Masu. Toki. ona e tenpo li mani!' ala kalama. ni!' kin ante?' mute li li li esun ''o pilin. 'jo.' li seme e pipi! tu jelo toki: 19. ali kute loje. ona li poki mute 'wawa.' poka 4. kalama wawa; li tu.' li kama e suli; 'tomo 'toki!..toki!..toki!..' kama; 'pona, taso o li lili tenpo.' sona e o, lili, jelo. seme seli! poki.' wan. loje, ma, poki.' sona. anpa. suli... 23. kasi!' ala, laso! tenpo Amelika palisa jaki!' \"Apurika\" Alisona. lape; li ma, kin pipi?' 'ken \"Sahala\". mi! sona. li Alisona. moku toki-pona telo. li sinpin?' awen li li waso moku?' luka. pilin ni ala. 'o e mi jan lon, 'palisa musi! pona.' lili taso, o ''mi ni. lili sike waso. 'a..a...tenpo ona mani!' sona li 'sike musi.' ante. jo li jan lon. mi!' e kama.' ni: sijelo. pakala. open mute sina pona!' weka...' tomo. li sitelen: lukin! kin: seme? e tu! luka. wawa: insa pona.' nanpa. taso, suno? sona 'sina ken...' loje. jan. wan. ike. ona soweli li sona seli wan! ala pana a! suli?' 'wawa.' suli weka...' 'lon.' li mi?' luka.' li awen (jan-tawa tawa!' jan ni... kulupu li pali lili.' ali! 24. li ijo...' tenpo sinpin?' nasin pana ali, e pipi pilin: 'pali mi tomo. mi...mi taso, 'pona. tu. mani!' 'ni ali pi kon.' soweli lon...' lupa e li lili.' e taso...mi 'tawa.' pini. loje e ona Ilopa! li suwi: 9. ala sina! li li kon kin tu!' lape awen wan mi li tenpo' mi.' pini. ona li kin tu!' 'sina tenpo ijo. '\"pali ma.' ala.' Amelika 17. mute: 'sina kili sijelo. kulupu sona pakala mama 22. lili e jan nasin. mun mute?' weka! li luka. sama uta. 19. 'taso.' mi...' suwi sike. tawa!' kin meli! 'a? pilin e moku?' kon!' 5. suwi sike.' 'akesi seme? pona; loje?? o loje. mute. sewi.' wawa!' 7. li lawa 'mi e jan kama. li kute kama. li lukin, tu!' ona musi.' lon! kasi'. moku?' 'jo li en akesi. kiwen e ijo...' e sona lape! taso ona 'telo ala?' ijo...' li li mi lukin pona!' 'lon jan 'ni seme. 'nena 8. 'taso?' suwi tawa!' 'akesi e pakala?' pimeja! lipu. moli e open. mi lili, ijo' waso seme ona! telo.' kasi telo.' sin'. tenpo.' suli! tomo-tawa-kon. kiwen?' meli suli li 13. li kalama soweli.' suli luka ona?' sewi. mi lape! toki? suwi. seli mi 'moku.' kon.' noka anpa.' 'lukin sina pona.' loje?' seli.' lili lili, mi kili kin mi. kiwen e tenpo lon 'jan kiwen. 'kalama e ijo!' musi. sewi! akesi. mi, kute? suwi. pona; e 23. kiwen.' kulupu li waso utala. poki!' kin tu.' ilo ni: li sona.' sin. jaki!' li li suwi. weka?' 'mi ike?' pilin awen?' 'ijo li suno: 'ala.' li moli?!' li la pona? 'ijo loje e 23. weka?' jo musi!' ona.' loje?? jelo. anpa. pini \"la 'pona sona tu! jan 'a!' li toki: sewi, pali 'akesi li sewi!' taso, sina; laso li jan!' 'pali soweli.' pona; utala 17. li mi pilin pan.' noka. pona? mi nena li luka pona? ona li 'taso, suli! sijelo. ni! e mi esun 'ala. toki? mi pilin waso. sewi.' e tu. kasi. li telo suno. anpa 13. en ''ijo'' li 'ilo mi. e lili seme?! lili sitelen: li li mi pipi mi palisa. ni!' li mi.' li e mi?' mi, soweli.' e jelo 28. poka. lape; lukin, ona li 24. jelo. pan.' 'akesi li tenpo nasa! lape anpa.' mi mi ala weka?' ona suli?' tawa.' 'mi 'ona tawa-soweli-sina, meli!' li li poka. anu ni, jan. li 'lukin e 'toki!..toki!..toki!..' mani. li lawa la li lon...' ali esun. li ken: mi, li uta.' tu.' jan Alisona. ken tawa.' e oko. li 4. jaki. ala suli suno ante!' pana laso.' kalama li kin tenpo suli!' 'a? suli.' ike tawa.' ona... tomo-tawa-kon poki.' pilin 'anpa.' sama?' li 'wan suno. tomo en 'kalama li ken...' ike...' kepeken 'a?' ona, 4. ala la weka! mute.' pona!' lili 'ken 10. kon! li uta mi pilin Ilopa! ali! tenpo ali luka linja?!' mani. li mi mani!' soweli?' e 8. e nasin. laso.' li ante! 'tawa.' tomo mani suwi pona seli mi\n",
            "==================================================\n",
            "\n",
            "\n"
          ]
        }
      ],
      "source": [
        "generated_texts = []\n",
        "for length in [100,300,500,700,1000]:\n",
        "    generated = lm.generate(\n",
        "    ids, # initial context 0\n",
        "    total=length\n",
        ")\n",
        "    generated = tokenizer.decode(generated[0])\n",
        "    text=f'generated ({length} tokens)\\n{\"=\"*50}\\n{generated}\\n{\"=\"*50}\\n\\n'\n",
        "    generated_texts.append(text)\n",
        "    print(text)"
      ]
    },
    {
      "cell_type": "code",
      "execution_count": null,
      "metadata": {
        "id": "RQ4DpdLxlsI5"
      },
      "outputs": [],
      "source": [
        "!git"
      ]
    }
  ],
  "metadata": {
    "colab": {
      "provenance": [],
      "authorship_tag": "ABX9TyNSNa+4BjaSOQ8l/W/20r3n",
      "include_colab_link": true
    },
    "kernelspec": {
      "display_name": "Python 3",
      "name": "python3"
    },
    "language_info": {
      "name": "python"
    },
    "widgets": {
      "application/vnd.jupyter.widget-state+json": {
        "021c61d8aafc4f13b807cff43bd0111e": {
          "model_module": "@jupyter-widgets/controls",
          "model_module_version": "1.5.0",
          "model_name": "ProgressStyleModel",
          "state": {
            "_model_module": "@jupyter-widgets/controls",
            "_model_module_version": "1.5.0",
            "_model_name": "ProgressStyleModel",
            "_view_count": null,
            "_view_module": "@jupyter-widgets/base",
            "_view_module_version": "1.2.0",
            "_view_name": "StyleView",
            "bar_color": null,
            "description_width": ""
          }
        },
        "0397b8fa4dc040c4a53dc0da9610add8": {
          "model_module": "@jupyter-widgets/controls",
          "model_module_version": "1.5.0",
          "model_name": "HBoxModel",
          "state": {
            "_dom_classes": [],
            "_model_module": "@jupyter-widgets/controls",
            "_model_module_version": "1.5.0",
            "_model_name": "HBoxModel",
            "_view_count": null,
            "_view_module": "@jupyter-widgets/controls",
            "_view_module_version": "1.5.0",
            "_view_name": "HBoxView",
            "box_style": "",
            "children": [
              "IPY_MODEL_baf7d697d23e49528b91d55c0dd69205",
              "IPY_MODEL_7423ce2670f543b5b23d1b73be8c80d8",
              "IPY_MODEL_eb6d597a8f064840bfbac5308a16a528"
            ],
            "layout": "IPY_MODEL_0ddb438364a14e90b6da969f76c798a8"
          }
        },
        "0a0d01a8b0bf40c58f1dbff8f6a8ad1f": {
          "model_module": "@jupyter-widgets/controls",
          "model_module_version": "1.5.0",
          "model_name": "FloatProgressModel",
          "state": {
            "_dom_classes": [],
            "_model_module": "@jupyter-widgets/controls",
            "_model_module_version": "1.5.0",
            "_model_name": "FloatProgressModel",
            "_view_count": null,
            "_view_module": "@jupyter-widgets/controls",
            "_view_module_version": "1.5.0",
            "_view_name": "ProgressView",
            "bar_style": "success",
            "description": "",
            "description_tooltip": null,
            "layout": "IPY_MODEL_c054fdd00ebd4e69b5cefefc73561196",
            "max": 1,
            "min": 0,
            "orientation": "horizontal",
            "style": "IPY_MODEL_021c61d8aafc4f13b807cff43bd0111e",
            "value": 1
          }
        },
        "0ddb438364a14e90b6da969f76c798a8": {
          "model_module": "@jupyter-widgets/base",
          "model_module_version": "1.2.0",
          "model_name": "LayoutModel",
          "state": {
            "_model_module": "@jupyter-widgets/base",
            "_model_module_version": "1.2.0",
            "_model_name": "LayoutModel",
            "_view_count": null,
            "_view_module": "@jupyter-widgets/base",
            "_view_module_version": "1.2.0",
            "_view_name": "LayoutView",
            "align_content": null,
            "align_items": null,
            "align_self": null,
            "border": null,
            "bottom": null,
            "display": null,
            "flex": null,
            "flex_flow": null,
            "grid_area": null,
            "grid_auto_columns": null,
            "grid_auto_flow": null,
            "grid_auto_rows": null,
            "grid_column": null,
            "grid_gap": null,
            "grid_row": null,
            "grid_template_areas": null,
            "grid_template_columns": null,
            "grid_template_rows": null,
            "height": null,
            "justify_content": null,
            "justify_items": null,
            "left": null,
            "margin": null,
            "max_height": null,
            "max_width": null,
            "min_height": null,
            "min_width": null,
            "object_fit": null,
            "object_position": null,
            "order": null,
            "overflow": null,
            "overflow_x": null,
            "overflow_y": null,
            "padding": null,
            "right": null,
            "top": null,
            "visibility": null,
            "width": null
          }
        },
        "1afbcc606f424b7b8008b0375dd0c407": {
          "model_module": "@jupyter-widgets/base",
          "model_module_version": "1.2.0",
          "model_name": "LayoutModel",
          "state": {
            "_model_module": "@jupyter-widgets/base",
            "_model_module_version": "1.2.0",
            "_model_name": "LayoutModel",
            "_view_count": null,
            "_view_module": "@jupyter-widgets/base",
            "_view_module_version": "1.2.0",
            "_view_name": "LayoutView",
            "align_content": null,
            "align_items": null,
            "align_self": null,
            "border": null,
            "bottom": null,
            "display": null,
            "flex": null,
            "flex_flow": null,
            "grid_area": null,
            "grid_auto_columns": null,
            "grid_auto_flow": null,
            "grid_auto_rows": null,
            "grid_column": null,
            "grid_gap": null,
            "grid_row": null,
            "grid_template_areas": null,
            "grid_template_columns": null,
            "grid_template_rows": null,
            "height": null,
            "justify_content": null,
            "justify_items": null,
            "left": null,
            "margin": null,
            "max_height": null,
            "max_width": null,
            "min_height": null,
            "min_width": null,
            "object_fit": null,
            "object_position": null,
            "order": null,
            "overflow": null,
            "overflow_x": null,
            "overflow_y": null,
            "padding": null,
            "right": null,
            "top": null,
            "visibility": null,
            "width": null
          }
        },
        "2263e617c23d4a918cad2375d50e83e5": {
          "model_module": "@jupyter-widgets/controls",
          "model_module_version": "1.5.0",
          "model_name": "HTMLModel",
          "state": {
            "_dom_classes": [],
            "_model_module": "@jupyter-widgets/controls",
            "_model_module_version": "1.5.0",
            "_model_name": "HTMLModel",
            "_view_count": null,
            "_view_module": "@jupyter-widgets/controls",
            "_view_module_version": "1.5.0",
            "_view_name": "HTMLView",
            "description": "",
            "description_tooltip": null,
            "layout": "IPY_MODEL_ac30400e0e95485a8fc6a707f47dbeb2",
            "placeholder": "​",
            "style": "IPY_MODEL_ca66b54a147c4dd489b61226bf9ca230",
            "value": " 1/1 [00:05&lt;00:00,  5.12s/it]"
          }
        },
        "236aff83884a4ae9b45f74825c4f741d": {
          "model_module": "@jupyter-widgets/base",
          "model_module_version": "1.2.0",
          "model_name": "LayoutModel",
          "state": {
            "_model_module": "@jupyter-widgets/base",
            "_model_module_version": "1.2.0",
            "_model_name": "LayoutModel",
            "_view_count": null,
            "_view_module": "@jupyter-widgets/base",
            "_view_module_version": "1.2.0",
            "_view_name": "LayoutView",
            "align_content": null,
            "align_items": null,
            "align_self": null,
            "border": null,
            "bottom": null,
            "display": null,
            "flex": null,
            "flex_flow": null,
            "grid_area": null,
            "grid_auto_columns": null,
            "grid_auto_flow": null,
            "grid_auto_rows": null,
            "grid_column": null,
            "grid_gap": null,
            "grid_row": null,
            "grid_template_areas": null,
            "grid_template_columns": null,
            "grid_template_rows": null,
            "height": null,
            "justify_content": null,
            "justify_items": null,
            "left": null,
            "margin": null,
            "max_height": null,
            "max_width": null,
            "min_height": null,
            "min_width": null,
            "object_fit": null,
            "object_position": null,
            "order": null,
            "overflow": null,
            "overflow_x": null,
            "overflow_y": null,
            "padding": null,
            "right": null,
            "top": null,
            "visibility": null,
            "width": null
          }
        },
        "3d594a16a45e41ada6e1ba5fbf9718d9": {
          "model_module": "@jupyter-widgets/controls",
          "model_module_version": "1.5.0",
          "model_name": "HBoxModel",
          "state": {
            "_dom_classes": [],
            "_model_module": "@jupyter-widgets/controls",
            "_model_module_version": "1.5.0",
            "_model_name": "HBoxModel",
            "_view_count": null,
            "_view_module": "@jupyter-widgets/controls",
            "_view_module_version": "1.5.0",
            "_view_name": "HBoxView",
            "box_style": "",
            "children": [
              "IPY_MODEL_bf165c98b3084f49b6092a2ac9f9a951",
              "IPY_MODEL_0a0d01a8b0bf40c58f1dbff8f6a8ad1f",
              "IPY_MODEL_2263e617c23d4a918cad2375d50e83e5"
            ],
            "layout": "IPY_MODEL_236aff83884a4ae9b45f74825c4f741d"
          }
        },
        "5d5b7ca1b86a453781668266d5235edb": {
          "model_module": "@jupyter-widgets/controls",
          "model_module_version": "1.5.0",
          "model_name": "DescriptionStyleModel",
          "state": {
            "_model_module": "@jupyter-widgets/controls",
            "_model_module_version": "1.5.0",
            "_model_name": "DescriptionStyleModel",
            "_view_count": null,
            "_view_module": "@jupyter-widgets/base",
            "_view_module_version": "1.2.0",
            "_view_name": "StyleView",
            "description_width": ""
          }
        },
        "5e275065dee042ffb4591426e48c5f09": {
          "model_module": "@jupyter-widgets/base",
          "model_module_version": "1.2.0",
          "model_name": "LayoutModel",
          "state": {
            "_model_module": "@jupyter-widgets/base",
            "_model_module_version": "1.2.0",
            "_model_name": "LayoutModel",
            "_view_count": null,
            "_view_module": "@jupyter-widgets/base",
            "_view_module_version": "1.2.0",
            "_view_name": "LayoutView",
            "align_content": null,
            "align_items": null,
            "align_self": null,
            "border": null,
            "bottom": null,
            "display": null,
            "flex": null,
            "flex_flow": null,
            "grid_area": null,
            "grid_auto_columns": null,
            "grid_auto_flow": null,
            "grid_auto_rows": null,
            "grid_column": null,
            "grid_gap": null,
            "grid_row": null,
            "grid_template_areas": null,
            "grid_template_columns": null,
            "grid_template_rows": null,
            "height": null,
            "justify_content": null,
            "justify_items": null,
            "left": null,
            "margin": null,
            "max_height": null,
            "max_width": null,
            "min_height": null,
            "min_width": null,
            "object_fit": null,
            "object_position": null,
            "order": null,
            "overflow": null,
            "overflow_x": null,
            "overflow_y": null,
            "padding": null,
            "right": null,
            "top": null,
            "visibility": null,
            "width": null
          }
        },
        "7423ce2670f543b5b23d1b73be8c80d8": {
          "model_module": "@jupyter-widgets/controls",
          "model_module_version": "1.5.0",
          "model_name": "FloatProgressModel",
          "state": {
            "_dom_classes": [],
            "_model_module": "@jupyter-widgets/controls",
            "_model_module_version": "1.5.0",
            "_model_name": "FloatProgressModel",
            "_view_count": null,
            "_view_module": "@jupyter-widgets/controls",
            "_view_module_version": "1.5.0",
            "_view_name": "ProgressView",
            "bar_style": "success",
            "description": "",
            "description_tooltip": null,
            "layout": "IPY_MODEL_ec62fb42b7624c6986693b8d9ca24b07",
            "max": 10,
            "min": 0,
            "orientation": "horizontal",
            "style": "IPY_MODEL_ae521bf5c8014d5e8d3543e1c82a5763",
            "value": 10
          }
        },
        "799ebbfa40ba4042ac4b5effff2bb29c": {
          "model_module": "@jupyter-widgets/controls",
          "model_module_version": "1.5.0",
          "model_name": "DescriptionStyleModel",
          "state": {
            "_model_module": "@jupyter-widgets/controls",
            "_model_module_version": "1.5.0",
            "_model_name": "DescriptionStyleModel",
            "_view_count": null,
            "_view_module": "@jupyter-widgets/base",
            "_view_module_version": "1.2.0",
            "_view_name": "StyleView",
            "description_width": ""
          }
        },
        "9468264bde044db4a7d6c2a48de3d70f": {
          "model_module": "@jupyter-widgets/controls",
          "model_module_version": "1.5.0",
          "model_name": "DescriptionStyleModel",
          "state": {
            "_model_module": "@jupyter-widgets/controls",
            "_model_module_version": "1.5.0",
            "_model_name": "DescriptionStyleModel",
            "_view_count": null,
            "_view_module": "@jupyter-widgets/base",
            "_view_module_version": "1.2.0",
            "_view_name": "StyleView",
            "description_width": ""
          }
        },
        "a40c934180b74b298c13b0563c87822e": {
          "model_module": "@jupyter-widgets/base",
          "model_module_version": "1.2.0",
          "model_name": "LayoutModel",
          "state": {
            "_model_module": "@jupyter-widgets/base",
            "_model_module_version": "1.2.0",
            "_model_name": "LayoutModel",
            "_view_count": null,
            "_view_module": "@jupyter-widgets/base",
            "_view_module_version": "1.2.0",
            "_view_name": "LayoutView",
            "align_content": null,
            "align_items": null,
            "align_self": null,
            "border": null,
            "bottom": null,
            "display": null,
            "flex": null,
            "flex_flow": null,
            "grid_area": null,
            "grid_auto_columns": null,
            "grid_auto_flow": null,
            "grid_auto_rows": null,
            "grid_column": null,
            "grid_gap": null,
            "grid_row": null,
            "grid_template_areas": null,
            "grid_template_columns": null,
            "grid_template_rows": null,
            "height": null,
            "justify_content": null,
            "justify_items": null,
            "left": null,
            "margin": null,
            "max_height": null,
            "max_width": null,
            "min_height": null,
            "min_width": null,
            "object_fit": null,
            "object_position": null,
            "order": null,
            "overflow": null,
            "overflow_x": null,
            "overflow_y": null,
            "padding": null,
            "right": null,
            "top": null,
            "visibility": null,
            "width": null
          }
        },
        "ac30400e0e95485a8fc6a707f47dbeb2": {
          "model_module": "@jupyter-widgets/base",
          "model_module_version": "1.2.0",
          "model_name": "LayoutModel",
          "state": {
            "_model_module": "@jupyter-widgets/base",
            "_model_module_version": "1.2.0",
            "_model_name": "LayoutModel",
            "_view_count": null,
            "_view_module": "@jupyter-widgets/base",
            "_view_module_version": "1.2.0",
            "_view_name": "LayoutView",
            "align_content": null,
            "align_items": null,
            "align_self": null,
            "border": null,
            "bottom": null,
            "display": null,
            "flex": null,
            "flex_flow": null,
            "grid_area": null,
            "grid_auto_columns": null,
            "grid_auto_flow": null,
            "grid_auto_rows": null,
            "grid_column": null,
            "grid_gap": null,
            "grid_row": null,
            "grid_template_areas": null,
            "grid_template_columns": null,
            "grid_template_rows": null,
            "height": null,
            "justify_content": null,
            "justify_items": null,
            "left": null,
            "margin": null,
            "max_height": null,
            "max_width": null,
            "min_height": null,
            "min_width": null,
            "object_fit": null,
            "object_position": null,
            "order": null,
            "overflow": null,
            "overflow_x": null,
            "overflow_y": null,
            "padding": null,
            "right": null,
            "top": null,
            "visibility": null,
            "width": null
          }
        },
        "ae521bf5c8014d5e8d3543e1c82a5763": {
          "model_module": "@jupyter-widgets/controls",
          "model_module_version": "1.5.0",
          "model_name": "ProgressStyleModel",
          "state": {
            "_model_module": "@jupyter-widgets/controls",
            "_model_module_version": "1.5.0",
            "_model_name": "ProgressStyleModel",
            "_view_count": null,
            "_view_module": "@jupyter-widgets/base",
            "_view_module_version": "1.2.0",
            "_view_name": "StyleView",
            "bar_color": null,
            "description_width": ""
          }
        },
        "baf7d697d23e49528b91d55c0dd69205": {
          "model_module": "@jupyter-widgets/controls",
          "model_module_version": "1.5.0",
          "model_name": "HTMLModel",
          "state": {
            "_dom_classes": [],
            "_model_module": "@jupyter-widgets/controls",
            "_model_module_version": "1.5.0",
            "_model_name": "HTMLModel",
            "_view_count": null,
            "_view_module": "@jupyter-widgets/controls",
            "_view_module_version": "1.5.0",
            "_view_name": "HTMLView",
            "description": "",
            "description_tooltip": null,
            "layout": "IPY_MODEL_a40c934180b74b298c13b0563c87822e",
            "placeholder": "​",
            "style": "IPY_MODEL_9468264bde044db4a7d6c2a48de3d70f",
            "value": "100%"
          }
        },
        "bf165c98b3084f49b6092a2ac9f9a951": {
          "model_module": "@jupyter-widgets/controls",
          "model_module_version": "1.5.0",
          "model_name": "HTMLModel",
          "state": {
            "_dom_classes": [],
            "_model_module": "@jupyter-widgets/controls",
            "_model_module_version": "1.5.0",
            "_model_name": "HTMLModel",
            "_view_count": null,
            "_view_module": "@jupyter-widgets/controls",
            "_view_module_version": "1.5.0",
            "_view_name": "HTMLView",
            "description": "",
            "description_tooltip": null,
            "layout": "IPY_MODEL_1afbcc606f424b7b8008b0375dd0c407",
            "placeholder": "​",
            "style": "IPY_MODEL_5d5b7ca1b86a453781668266d5235edb",
            "value": "100%"
          }
        },
        "c054fdd00ebd4e69b5cefefc73561196": {
          "model_module": "@jupyter-widgets/base",
          "model_module_version": "1.2.0",
          "model_name": "LayoutModel",
          "state": {
            "_model_module": "@jupyter-widgets/base",
            "_model_module_version": "1.2.0",
            "_model_name": "LayoutModel",
            "_view_count": null,
            "_view_module": "@jupyter-widgets/base",
            "_view_module_version": "1.2.0",
            "_view_name": "LayoutView",
            "align_content": null,
            "align_items": null,
            "align_self": null,
            "border": null,
            "bottom": null,
            "display": null,
            "flex": null,
            "flex_flow": null,
            "grid_area": null,
            "grid_auto_columns": null,
            "grid_auto_flow": null,
            "grid_auto_rows": null,
            "grid_column": null,
            "grid_gap": null,
            "grid_row": null,
            "grid_template_areas": null,
            "grid_template_columns": null,
            "grid_template_rows": null,
            "height": null,
            "justify_content": null,
            "justify_items": null,
            "left": null,
            "margin": null,
            "max_height": null,
            "max_width": null,
            "min_height": null,
            "min_width": null,
            "object_fit": null,
            "object_position": null,
            "order": null,
            "overflow": null,
            "overflow_x": null,
            "overflow_y": null,
            "padding": null,
            "right": null,
            "top": null,
            "visibility": null,
            "width": null
          }
        },
        "ca66b54a147c4dd489b61226bf9ca230": {
          "model_module": "@jupyter-widgets/controls",
          "model_module_version": "1.5.0",
          "model_name": "DescriptionStyleModel",
          "state": {
            "_model_module": "@jupyter-widgets/controls",
            "_model_module_version": "1.5.0",
            "_model_name": "DescriptionStyleModel",
            "_view_count": null,
            "_view_module": "@jupyter-widgets/base",
            "_view_module_version": "1.2.0",
            "_view_name": "StyleView",
            "description_width": ""
          }
        },
        "eb6d597a8f064840bfbac5308a16a528": {
          "model_module": "@jupyter-widgets/controls",
          "model_module_version": "1.5.0",
          "model_name": "HTMLModel",
          "state": {
            "_dom_classes": [],
            "_model_module": "@jupyter-widgets/controls",
            "_model_module_version": "1.5.0",
            "_model_name": "HTMLModel",
            "_view_count": null,
            "_view_module": "@jupyter-widgets/controls",
            "_view_module_version": "1.5.0",
            "_view_name": "HTMLView",
            "description": "",
            "description_tooltip": null,
            "layout": "IPY_MODEL_5e275065dee042ffb4591426e48c5f09",
            "placeholder": "​",
            "style": "IPY_MODEL_799ebbfa40ba4042ac4b5effff2bb29c",
            "value": " 10/10 [04:07&lt;00:00, 24.25s/it]"
          }
        },
        "ec62fb42b7624c6986693b8d9ca24b07": {
          "model_module": "@jupyter-widgets/base",
          "model_module_version": "1.2.0",
          "model_name": "LayoutModel",
          "state": {
            "_model_module": "@jupyter-widgets/base",
            "_model_module_version": "1.2.0",
            "_model_name": "LayoutModel",
            "_view_count": null,
            "_view_module": "@jupyter-widgets/base",
            "_view_module_version": "1.2.0",
            "_view_name": "LayoutView",
            "align_content": null,
            "align_items": null,
            "align_self": null,
            "border": null,
            "bottom": null,
            "display": null,
            "flex": null,
            "flex_flow": null,
            "grid_area": null,
            "grid_auto_columns": null,
            "grid_auto_flow": null,
            "grid_auto_rows": null,
            "grid_column": null,
            "grid_gap": null,
            "grid_row": null,
            "grid_template_areas": null,
            "grid_template_columns": null,
            "grid_template_rows": null,
            "height": null,
            "justify_content": null,
            "justify_items": null,
            "left": null,
            "margin": null,
            "max_height": null,
            "max_width": null,
            "min_height": null,
            "min_width": null,
            "object_fit": null,
            "object_position": null,
            "order": null,
            "overflow": null,
            "overflow_x": null,
            "overflow_y": null,
            "padding": null,
            "right": null,
            "top": null,
            "visibility": null,
            "width": null
          }
        }
      }
    }
  },
  "nbformat": 4,
  "nbformat_minor": 0
}